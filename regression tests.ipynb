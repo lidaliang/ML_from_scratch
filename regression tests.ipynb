{
 "cells": [
  {
   "cell_type": "code",
   "execution_count": 7,
   "metadata": {},
   "outputs": [],
   "source": [
    "import numpy as np\n",
    "from sklearn.linear_model import LinearRegression"
   ]
  },
  {
   "cell_type": "code",
   "execution_count": 4,
   "metadata": {},
   "outputs": [],
   "source": [
    "from models.linear import linear_regresser"
   ]
  },
  {
   "cell_type": "code",
   "execution_count": 5,
   "metadata": {},
   "outputs": [],
   "source": [
    "X = np.random.rand(50,3)\n",
    "\n",
    "y = (X @ [[3],[2],[1]]).reshape(-1) +4 + 0.1*np.random.rand(50)\n",
    "\n",
    "X_test = np.random.rand(20,3)"
   ]
  },
  {
   "cell_type": "code",
   "execution_count": 6,
   "metadata": {},
   "outputs": [
    {
     "name": "stdout",
     "output_type": "stream",
     "text": [
      "[3.00802363 1.99230158 1.0131986  4.04638566]\n",
      "0.9992492674391983\n"
     ]
    },
    {
     "data": {
      "text/plain": [
       "array([7.79237383, 6.43191004, 5.99381819, 6.43643598, 8.15485339,\n",
       "       4.95114872, 4.65024676, 8.20661286, 6.88539923, 5.31237624,\n",
       "       7.47652529, 6.52201329, 8.94867575, 6.28556736, 6.06164937,\n",
       "       7.28949297, 4.68512279, 7.45488134, 6.33981081, 7.18361134])"
      ]
     },
     "execution_count": 6,
     "metadata": {},
     "output_type": "execute_result"
    }
   ],
   "source": [
    "lr = linear_regresser()\n",
    "lr.fit(X,y)\n",
    "print(lr.coeffs)\n",
    "print(lr.R_train)\n",
    "lr.predict(X_test)"
   ]
  },
  {
   "cell_type": "code",
   "execution_count": 8,
   "metadata": {},
   "outputs": [
    {
     "name": "stdout",
     "output_type": "stream",
     "text": [
      "0.9992492674391983\n",
      "[3.00802363 1.99230158 1.0131986 ] 4.046385664890268\n"
     ]
    }
   ],
   "source": [
    "reg = LinearRegression().fit(X, y)\n",
    "\n",
    "print(reg.score(X,y))\n",
    "print(reg.coef_,reg.intercept_ )"
   ]
  },
  {
   "cell_type": "code",
   "execution_count": null,
   "metadata": {},
   "outputs": [],
   "source": []
  }
 ],
 "metadata": {
  "kernelspec": {
   "display_name": "Python 3",
   "language": "python",
   "name": "python3"
  },
  "language_info": {
   "codemirror_mode": {
    "name": "ipython",
    "version": 3
   },
   "file_extension": ".py",
   "mimetype": "text/x-python",
   "name": "python",
   "nbconvert_exporter": "python",
   "pygments_lexer": "ipython3",
   "version": "3.7.3"
  }
 },
 "nbformat": 4,
 "nbformat_minor": 4
}
